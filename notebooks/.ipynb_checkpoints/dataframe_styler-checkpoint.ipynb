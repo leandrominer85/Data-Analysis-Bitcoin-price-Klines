{
 "cells": [
  {
   "cell_type": "code",
   "execution_count": 1,
   "metadata": {},
   "outputs": [],
   "source": [
    "import pandas as pd\n",
    "import glob\n",
    "import os"
   ]
  },
  {
   "cell_type": "code",
   "execution_count": 200,
   "metadata": {},
   "outputs": [],
   "source": [
    "def data_table(path = '..\\data\\cleaned'):\n",
    "    \n",
    "    \n",
    "    '''\n",
    "    This function receives a path for the data.\n",
    "    It asks the initial and final dates wich are used to filter the original dataframe.\n",
    "    Then it aks the hour for the funding fees, the percentages for the target price and the liquidation price and\n",
    "    the minutes to analyse.\n",
    "    With this data whe start a counter that is summed every time the liquidation price is not reached and\n",
    "    the target price is reached.\n",
    "    Prints the results\n",
    "    \n",
    "    Input:\n",
    "    path - str; the path to the original data \n",
    "    \n",
    "    \n",
    "    Output:\n",
    "    \n",
    "    \n",
    "    '''\n",
    "    \n",
    "    \n",
    "    #Uses glob to get the list of files\n",
    "    path = path\n",
    "    files = glob.glob(path + \"/*.csv\")\n",
    "    \n",
    "    print(\"Select one of the data:\")\n",
    "    for i in files:\n",
    "        print(i)\n",
    "        \n",
    "    #fet the file path\n",
    "    file_path = input(\"File path\")\n",
    "    \n",
    "    df = pd.read_csv(file_path, index_col=\"date\")\n",
    "    df.drop(\"Unnamed: 0\",axis=1, inplace=True)\n",
    "    df.index = pd.to_datetime(df.index)\n",
    "    print()\n",
    "    print(\"Select a date (minutes to be considered) between {} and {}\".format(df.index.min(), df.index.max()))\n",
    "    print()\n",
    "    \n",
    "    \n",
    "    #get the inputs\n",
    "    init_date = input(\"Begin date (format : year-month-day hour:min:sec). Ex: '2020-02-19 17:30:00'\")\n",
    "    final_date = input(\"Final date (format : year-month-day hour:min:sec). Ex: '2020-02-19 17:30:00'\")\n",
    "    print()\n",
    "    funding = float(input(\"Select the funding fee (as a decimal format, ex: 0.01)\"))\n",
    "    \n",
    "    print()\n",
    "    hour = input(\"Select the funding hour (integer with two digits, ex : 16)\")\n",
    "    print()\n",
    "    target_price = float(input(\"Select the target price increase (as a decimal format, ex: 0.01)\"))\n",
    "    print()\n",
    "    liquidation_price = float(input(\"Select the liquidation price decrease (as a decimal format, ex: 0.01)\"))\n",
    "    print()\n",
    "    minutes = input(\"Select the minutes interval (integer with two digits, ex : 16)\")\n",
    "    \n",
    "    \n",
    "    df_time_period = df[init_date:final_date]\n",
    "    df_exact_hour = df_time_period.at_time(hour)\n",
    "    \n",
    "    \n",
    "    #Initialize the counter and the percentage\n",
    "    counter = 0\n",
    "    percentage = 0\n",
    "    \n",
    "    \n",
    "    #Check if the max value from the fundingRate input is higher than the one from the dataframe \n",
    "    if funding > df_exact_hour['fundingRate'].values.max():\n",
    "        \n",
    "        #slice the dataframe with the hour and minutes provided\n",
    "        df_sliced = df_time_period.between_time(start_time='{}:00'.format(hour), end_time='{}:{}'.format(hour,minutes))\n",
    "        \n",
    "        #gets the base price\n",
    "        default_price = df_sliced['close'][0]\n",
    "        \n",
    "        # update the target and liquidation prices with the default price\n",
    "        \n",
    "        target_price= df_sliced['close'][0] * (1 +target_price)\n",
    "        liquidation_price= df_sliced['close'][0] * (1 -liquidation_price)\n",
    "        \n",
    "        #iterates through the sliced dataframe and counts only if the liquidation price is higher\n",
    "        # than the minimum of the day and the target price is below the high\n",
    "        for i in df_sliced[['low', 'high']].iterrows():\n",
    "            if liquidation_price >= i[1][0]:\n",
    "                counter +=0\n",
    "            elif target_price <= i[1][1]:\n",
    "                counter +=1\n",
    "        percentage = counter/len(df_sliced)\n",
    "        \n",
    "\n",
    "    # If the funding is not higher stops\n",
    "    else:\n",
    "        print( \"Funding fee is below the select percentage\")\n",
    "\n",
    "    \n",
    "    print()\n",
    "\n",
    "\n",
    "    print((\"For the dates between {} and {}, considering the funding hour {} within {} minutes \\\n",
    "    period, the target price of: {} , the liquidation price of :{} the target price was hit on {} \\\n",
    "    of the total periods\").format(init_date,final_date,hour,minutes,target_price,liquidation_price, percentage))\n",
    "    \n",
    "    \n",
    "    "
   ]
  },
  {
   "cell_type": "code",
   "execution_count": 201,
   "metadata": {
    "scrolled": true
   },
   "outputs": [
    {
     "name": "stdout",
     "output_type": "stream",
     "text": [
      "Select one of the data:\n",
      "..\\data\\cleaned\\ADAUSDT.csv\n",
      "..\\data\\cleaned\\DOTUSDT.csv\n",
      "..\\data\\cleaned\\EOSUSDT.csv\n",
      "..\\data\\cleaned\\ETHUSDT.csv\n",
      "..\\data\\cleaned\\LINKUSDT.csv\n",
      "..\\data\\cleaned\\LTCUSDT.csv\n",
      "..\\data\\cleaned\\SXPUSDT.csv\n",
      "..\\data\\cleaned\\VETUSDT.csv\n",
      "..\\data\\cleaned\\XRPUSDT.csv\n"
     ]
    },
    {
     "ename": "KeyboardInterrupt",
     "evalue": "Interrupted by user",
     "output_type": "error",
     "traceback": [
      "\u001b[1;31m---------------------------------------------------------------------------\u001b[0m",
      "\u001b[1;31mKeyboardInterrupt\u001b[0m                         Traceback (most recent call last)",
      "\u001b[1;32m<ipython-input-201-b4d1df8dd287>\u001b[0m in \u001b[0;36m<module>\u001b[1;34m\u001b[0m\n\u001b[1;32m----> 1\u001b[1;33m \u001b[0mdata_table\u001b[0m\u001b[1;33m(\u001b[0m\u001b[1;33m)\u001b[0m\u001b[1;33m\u001b[0m\u001b[1;33m\u001b[0m\u001b[0m\n\u001b[0m",
      "\u001b[1;32m<ipython-input-200-29de11d674d7>\u001b[0m in \u001b[0;36mdata_table\u001b[1;34m(path)\u001b[0m\n\u001b[0;32m     30\u001b[0m \u001b[1;33m\u001b[0m\u001b[0m\n\u001b[0;32m     31\u001b[0m     \u001b[1;31m#fet the file path\u001b[0m\u001b[1;33m\u001b[0m\u001b[1;33m\u001b[0m\u001b[1;33m\u001b[0m\u001b[0m\n\u001b[1;32m---> 32\u001b[1;33m     \u001b[0mfile_path\u001b[0m \u001b[1;33m=\u001b[0m \u001b[0minput\u001b[0m\u001b[1;33m(\u001b[0m\u001b[1;34m\"File path\"\u001b[0m\u001b[1;33m)\u001b[0m\u001b[1;33m\u001b[0m\u001b[1;33m\u001b[0m\u001b[0m\n\u001b[0m\u001b[0;32m     33\u001b[0m \u001b[1;33m\u001b[0m\u001b[0m\n\u001b[0;32m     34\u001b[0m     \u001b[0mdf\u001b[0m \u001b[1;33m=\u001b[0m \u001b[0mpd\u001b[0m\u001b[1;33m.\u001b[0m\u001b[0mread_csv\u001b[0m\u001b[1;33m(\u001b[0m\u001b[0mfile_path\u001b[0m\u001b[1;33m,\u001b[0m \u001b[0mindex_col\u001b[0m\u001b[1;33m=\u001b[0m\u001b[1;34m\"date\"\u001b[0m\u001b[1;33m)\u001b[0m\u001b[1;33m\u001b[0m\u001b[1;33m\u001b[0m\u001b[0m\n",
      "\u001b[1;32m~\\Anaconda3\\lib\\site-packages\\ipykernel\\kernelbase.py\u001b[0m in \u001b[0;36mraw_input\u001b[1;34m(self, prompt)\u001b[0m\n\u001b[0;32m    858\u001b[0m                 \u001b[1;34m\"raw_input was called, but this frontend does not support input requests.\"\u001b[0m\u001b[1;33m\u001b[0m\u001b[1;33m\u001b[0m\u001b[0m\n\u001b[0;32m    859\u001b[0m             )\n\u001b[1;32m--> 860\u001b[1;33m         return self._input_request(str(prompt),\n\u001b[0m\u001b[0;32m    861\u001b[0m             \u001b[0mself\u001b[0m\u001b[1;33m.\u001b[0m\u001b[0m_parent_ident\u001b[0m\u001b[1;33m,\u001b[0m\u001b[1;33m\u001b[0m\u001b[1;33m\u001b[0m\u001b[0m\n\u001b[0;32m    862\u001b[0m             \u001b[0mself\u001b[0m\u001b[1;33m.\u001b[0m\u001b[0m_parent_header\u001b[0m\u001b[1;33m,\u001b[0m\u001b[1;33m\u001b[0m\u001b[1;33m\u001b[0m\u001b[0m\n",
      "\u001b[1;32m~\\Anaconda3\\lib\\site-packages\\ipykernel\\kernelbase.py\u001b[0m in \u001b[0;36m_input_request\u001b[1;34m(self, prompt, ident, parent, password)\u001b[0m\n\u001b[0;32m    902\u001b[0m             \u001b[1;32mexcept\u001b[0m \u001b[0mKeyboardInterrupt\u001b[0m\u001b[1;33m:\u001b[0m\u001b[1;33m\u001b[0m\u001b[1;33m\u001b[0m\u001b[0m\n\u001b[0;32m    903\u001b[0m                 \u001b[1;31m# re-raise KeyboardInterrupt, to truncate traceback\u001b[0m\u001b[1;33m\u001b[0m\u001b[1;33m\u001b[0m\u001b[1;33m\u001b[0m\u001b[0m\n\u001b[1;32m--> 904\u001b[1;33m                 \u001b[1;32mraise\u001b[0m \u001b[0mKeyboardInterrupt\u001b[0m\u001b[1;33m(\u001b[0m\u001b[1;34m\"Interrupted by user\"\u001b[0m\u001b[1;33m)\u001b[0m \u001b[1;32mfrom\u001b[0m \u001b[1;32mNone\u001b[0m\u001b[1;33m\u001b[0m\u001b[1;33m\u001b[0m\u001b[0m\n\u001b[0m\u001b[0;32m    905\u001b[0m             \u001b[1;32mexcept\u001b[0m \u001b[0mException\u001b[0m \u001b[1;32mas\u001b[0m \u001b[0me\u001b[0m\u001b[1;33m:\u001b[0m\u001b[1;33m\u001b[0m\u001b[1;33m\u001b[0m\u001b[0m\n\u001b[0;32m    906\u001b[0m                 \u001b[0mself\u001b[0m\u001b[1;33m.\u001b[0m\u001b[0mlog\u001b[0m\u001b[1;33m.\u001b[0m\u001b[0mwarning\u001b[0m\u001b[1;33m(\u001b[0m\u001b[1;34m\"Invalid Message:\"\u001b[0m\u001b[1;33m,\u001b[0m \u001b[0mexc_info\u001b[0m\u001b[1;33m=\u001b[0m\u001b[1;32mTrue\u001b[0m\u001b[1;33m)\u001b[0m\u001b[1;33m\u001b[0m\u001b[1;33m\u001b[0m\u001b[0m\n",
      "\u001b[1;31mKeyboardInterrupt\u001b[0m: Interrupted by user"
     ]
    }
   ],
   "source": [
    "data_table()"
   ]
  },
  {
   "cell_type": "code",
   "execution_count": null,
   "metadata": {},
   "outputs": [],
   "source": []
  }
 ],
 "metadata": {
  "kernelspec": {
   "display_name": "Python 3",
   "language": "python",
   "name": "python3"
  },
  "language_info": {
   "codemirror_mode": {
    "name": "ipython",
    "version": 3
   },
   "file_extension": ".py",
   "mimetype": "text/x-python",
   "name": "python",
   "nbconvert_exporter": "python",
   "pygments_lexer": "ipython3",
   "version": "3.8.5"
  }
 },
 "nbformat": 4,
 "nbformat_minor": 4
}
