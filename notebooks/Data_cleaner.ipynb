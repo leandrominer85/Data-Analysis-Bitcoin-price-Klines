{
 "cells": [
  {
   "cell_type": "code",
   "execution_count": 47,
   "metadata": {},
   "outputs": [],
   "source": [
    "# import modules\n",
    "import pandas as pd\n",
    "import glob\n",
    "import datetime as dt\n",
    "import os"
   ]
  },
  {
   "cell_type": "code",
   "execution_count": 50,
   "metadata": {},
   "outputs": [],
   "source": [
    "def cleaner(data_path = '..\\data\\original', save_path ='..\\data\\cleaned' ):\n",
    "    \n",
    "    '''\n",
    "    This function receives a path for the data and for the saves. Remove the time column, transform the \n",
    "    date to the datetime format and fill the fundingrate Nans with zeros and them saves the files in the \n",
    "    corresponding folder.\n",
    "    \n",
    "    Input:\n",
    "    data_path - str; the path to the original data \n",
    "    save_path - str; the path to save the modified data\n",
    "    \n",
    "    Output:\n",
    "    Dataframes cleaned and saved\n",
    "    \n",
    "    '''\n",
    "    \n",
    "    #Use glob to get all the files names in the original folder\n",
    "\n",
    "    path = data_path\n",
    "    files = glob.glob(path + \"/*.csv\")\n",
    "\n",
    "    # Iterate the files names and clean and save the data\n",
    "    for file in files:    \n",
    "        df = pd.read_csv(file, index_col= 0)\n",
    "\n",
    "\n",
    "        # we have the date, so we don't need the time column\n",
    "\n",
    "        df.drop('time', axis=1, inplace=True)\n",
    "\n",
    "\n",
    "        # the date column is in the object format. Let's make it a datetime\n",
    "\n",
    "        df['date'] = df['date'].apply(pd.to_datetime)\n",
    "\n",
    "        # for the purpouse of this project i will consider the rows with no funding fee as zeros\n",
    "\n",
    "        df['fundingRate'].fillna(0, inplace=True)\n",
    "\n",
    "        #Saving the file. The os function gets only the name of the file to pass to the save path\n",
    "\n",
    "        df.to_csv('{}\\{}'.format(save_path,os.path.basename(os.path.normpath('{}'.format(file)))))"
   ]
  },
  {
   "cell_type": "code",
   "execution_count": 51,
   "metadata": {
    "scrolled": true
   },
   "outputs": [],
   "source": [
    "cleaner()"
   ]
  }
 ],
 "metadata": {
  "kernelspec": {
   "display_name": "Python 3",
   "language": "python",
   "name": "python3"
  },
  "language_info": {
   "codemirror_mode": {
    "name": "ipython",
    "version": 3
   },
   "file_extension": ".py",
   "mimetype": "text/x-python",
   "name": "python",
   "nbconvert_exporter": "python",
   "pygments_lexer": "ipython3",
   "version": "3.8.5"
  }
 },
 "nbformat": 4,
 "nbformat_minor": 4
}
